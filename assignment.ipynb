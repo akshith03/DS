{
  "nbformat": 4,
  "nbformat_minor": 0,
  "metadata": {
    "colab": {
      "name": "assignment",
      "provenance": []
    },
    "kernelspec": {
      "name": "python3",
      "display_name": "Python 3"
    }
  },
  "cells": [
    {
      "cell_type": "code",
      "metadata": {
        "id": "fvSFvwfWgObj",
        "colab_type": "code",
        "colab": {}
      },
      "source": [
        "f = open(\"test.txt\",\"w\")\n",
        "f.write('''hii!!! this is written  to count the number of lines available''')\n",
        "f.close()\n"
      ],
      "execution_count": 0,
      "outputs": []
    },
    {
      "cell_type": "code",
      "metadata": {
        "id": "tgc_vS8tgX-a",
        "colab_type": "code",
        "colab": {}
      },
      "source": [
        "f=open(\"name.txt\",\"w\")\n",
        "f.write(\"this file is for using remove function\")\n",
        "f.close()"
      ],
      "execution_count": 0,
      "outputs": []
    },
    {
      "cell_type": "code",
      "metadata": {
        "id": "jiH_yVp7glUb",
        "colab_type": "code",
        "colab": {
          "base_uri": "https://localhost:8080/",
          "height": 68
        },
        "outputId": "3e0a46d4-f6b8-43dc-d35a-8e6632992ea6"
      },
      "source": [
        "f=open(\"test.txt\",\"r\")\n",
        "data=f.read()\n",
        "words=data.split()\n",
        "l=data.split('\\n')\n",
        "print(\"words:\",len(words),\"\\nCharacters:\",len(data),\"\\nLines:\",len(l))"
      ],
      "execution_count": 2,
      "outputs": [
        {
          "output_type": "stream",
          "text": [
            "words: 11 \n",
            "Characters: 62 \n",
            "Lines: 1\n"
          ],
          "name": "stdout"
        }
      ]
    },
    {
      "cell_type": "code",
      "metadata": {
        "id": "SP9k2OzzgrLb",
        "colab_type": "code",
        "colab": {}
      },
      "source": [
        "\n",
        "f=open(\"test.txt\")\n",
        "f1=open(\"output.txt\",\"a\")#a is for appending \n",
        "for line in f.readlines():\n",
        "    f1.write(line)\n",
        "f1.close()\n",
        "f.close()"
      ],
      "execution_count": 0,
      "outputs": []
    },
    {
      "cell_type": "code",
      "metadata": {
        "id": "Vs_MSytRg6Yr",
        "colab_type": "code",
        "colab": {}
      },
      "source": [
        "#hii!!! this is written  to count the number of lines available\n",
        "#this file is for using remove function\n",
        "#this will be displayed in\"output.txt\" file"
      ],
      "execution_count": 0,
      "outputs": []
    },
    {
      "cell_type": "code",
      "metadata": {
        "id": "1gbL86cdhDsF",
        "colab_type": "code",
        "colab": {
          "base_uri": "https://localhost:8080/",
          "height": 34
        },
        "outputId": "1f56023d-9849-4d1a-fba2-60472569c11d"
      },
      "source": [
        "#Q3)Display the words starting with letter 'p'\n",
        "\n",
        "f=open(\"test.txt\",\"r\")\n",
        "data=f.read()\n",
        "c=0\n",
        "for i in data.split():\n",
        "    if i.startswith('p'):\n",
        "        c=c+1\n",
        "print(\"words starting with P:\",c)"
      ],
      "execution_count": 4,
      "outputs": [
        {
          "output_type": "stream",
          "text": [
            "words starting with P: 0\n"
          ],
          "name": "stdout"
        }
      ]
    },
    {
      "cell_type": "code",
      "metadata": {
        "id": "HOaEuKpdhZTw",
        "colab_type": "code",
        "colab": {
          "base_uri": "https://localhost:8080/",
          "height": 231
        },
        "outputId": "d4f16400-e9ff-4c71-db1b-70e2fc84e5df"
      },
      "source": [
        "\n",
        "import os\n",
        "os.rename(\"test.txt\",\"tes1.txt\")\n",
        "print(\"File Renamed\")\n",
        "os.remove(\"name.txt\")\n",
        "print(\"File Removed!\")"
      ],
      "execution_count": 5,
      "outputs": [
        {
          "output_type": "stream",
          "text": [
            "File Renamed\n"
          ],
          "name": "stdout"
        },
        {
          "output_type": "error",
          "ename": "FileNotFoundError",
          "evalue": "ignored",
          "traceback": [
            "\u001b[0;31m---------------------------------------------------------------------------\u001b[0m",
            "\u001b[0;31mFileNotFoundError\u001b[0m                         Traceback (most recent call last)",
            "\u001b[0;32m<ipython-input-5-f03fa40cd184>\u001b[0m in \u001b[0;36m<module>\u001b[0;34m()\u001b[0m\n\u001b[1;32m      3\u001b[0m \u001b[0mos\u001b[0m\u001b[0;34m.\u001b[0m\u001b[0mrename\u001b[0m\u001b[0;34m(\u001b[0m\u001b[0;34m\"test.txt\"\u001b[0m\u001b[0;34m,\u001b[0m\u001b[0;34m\"tes1.txt\"\u001b[0m\u001b[0;34m)\u001b[0m\u001b[0;34m\u001b[0m\u001b[0;34m\u001b[0m\u001b[0m\n\u001b[1;32m      4\u001b[0m \u001b[0mprint\u001b[0m\u001b[0;34m(\u001b[0m\u001b[0;34m\"File Renamed\"\u001b[0m\u001b[0;34m)\u001b[0m\u001b[0;34m\u001b[0m\u001b[0;34m\u001b[0m\u001b[0m\n\u001b[0;32m----> 5\u001b[0;31m \u001b[0mos\u001b[0m\u001b[0;34m.\u001b[0m\u001b[0mremove\u001b[0m\u001b[0;34m(\u001b[0m\u001b[0;34m\"name.txt\"\u001b[0m\u001b[0;34m)\u001b[0m\u001b[0;34m\u001b[0m\u001b[0;34m\u001b[0m\u001b[0m\n\u001b[0m\u001b[1;32m      6\u001b[0m \u001b[0mprint\u001b[0m\u001b[0;34m(\u001b[0m\u001b[0;34m\"File Removed!\"\u001b[0m\u001b[0;34m)\u001b[0m\u001b[0;34m\u001b[0m\u001b[0;34m\u001b[0m\u001b[0m\n",
            "\u001b[0;31mFileNotFoundError\u001b[0m: [Errno 2] No such file or directory: 'name.txt'"
          ]
        }
      ]
    }
  ]
}