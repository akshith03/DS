{
  "nbformat": 4,
  "nbformat_minor": 0,
  "metadata": {
    "colab": {
      "name": "Untitled3.ipynb",
      "provenance": []
    },
    "kernelspec": {
      "name": "python3",
      "display_name": "Python 3"
    }
  },
  "cells": [
    {
      "cell_type": "code",
      "metadata": {
        "id": "OQaT1BZHRlm5",
        "colab_type": "code",
        "colab": {
          "base_uri": "https://localhost:8080/",
          "height": 204
        },
        "outputId": "b6b2cafa-f90c-417c-b477-61ff6ba9bdd0"
      },
      "source": [
        "rows=int(input('enter no of rows'))\n",
        "for i in range (0,rows):\n",
        "  for j in range (0,i+1):\n",
        "    print(\"*\",end=' ')\n",
        "  print(\"\\n\")"
      ],
      "execution_count": 2,
      "outputs": [
        {
          "output_type": "stream",
          "text": [
            "enter no of rows5\n",
            "* \n",
            "\n",
            "* * \n",
            "\n",
            "* * * \n",
            "\n",
            "* * * * \n",
            "\n",
            "* * * * * \n",
            "\n"
          ],
          "name": "stdout"
        }
      ]
    },
    {
      "cell_type": "code",
      "metadata": {
        "id": "iqhmT6CHhVdN",
        "colab_type": "code",
        "colab": {
          "base_uri": "https://localhost:8080/",
          "height": 204
        },
        "outputId": "d6635a5f-2358-4e55-fbd0-f52349528fdf"
      },
      "source": [
        "a=int(input('enter table'))\n",
        "for i in range(1,11):\n",
        "  print(a,'x',i,'=',a*i)\n",
        "  i=i+1"
      ],
      "execution_count": 4,
      "outputs": [
        {
          "output_type": "stream",
          "text": [
            "enter table7\n",
            "7 x 1 = 7\n",
            "7 x 2 = 14\n",
            "7 x 3 = 21\n",
            "7 x 4 = 28\n",
            "7 x 5 = 35\n",
            "7 x 6 = 42\n",
            "7 x 7 = 49\n",
            "7 x 8 = 56\n",
            "7 x 9 = 63\n",
            "7 x 10 = 70\n"
          ],
          "name": "stdout"
        }
      ]
    },
    {
      "cell_type": "code",
      "metadata": {
        "id": "QxHoNiqMja0_",
        "colab_type": "code",
        "colab": {
          "base_uri": "https://localhost:8080/",
          "height": 85
        },
        "outputId": "13fdc8bd-679a-419f-8c6d-07bf5c7f4c10"
      },
      "source": [
        "import math\n",
        "a = int(input(\"enter a coefficient\"))\n",
        "b = int(input(\"enter b coefficient\"))\n",
        "c = int(input(\"enter c coefficient\"))\n",
        "d = b * b - 4 * a * c\n",
        "if(d > 0):\n",
        "  root1 = (-b + math.sqrt(d)) / (2 * a)\n",
        "  root2 = (-b - math.sqrt(d)) / (2 * a)\n",
        "  print( \"the roots are\",root1, root2)\n",
        "elif(d==0):\n",
        "  root1 = root2 = -b / (2 * a)\n",
        "  print(\"roots are\",root1)\n",
        "else:\n",
        "  realPart = -b / (2 * a)\n",
        "  imagPart = math.sqrt(-d) / (2 * a)\n",
        "  print(\"roots are\",realPart,imagPart)"
      ],
      "execution_count": 5,
      "outputs": [
        {
          "output_type": "stream",
          "text": [
            "enter a coefficient5\n",
            "enter b coefficient6\n",
            "enter c coefficient9\n",
            "roots are -0.6 1.2\n"
          ],
          "name": "stdout"
        }
      ]
    },
    {
      "cell_type": "code",
      "metadata": {
        "id": "lQ9Zpb9jjxp7",
        "colab_type": "code",
        "colab": {
          "base_uri": "https://localhost:8080/",
          "height": 51
        },
        "outputId": "6d2548a2-4b7c-4287-d3b5-5986db538d4b"
      },
      "source": [
        "\n",
        "i=1\n",
        "s=0\n",
        "n=int(input(\"Enter decimal: \"))\n",
        "while n>0:\n",
        "    rem=int(n%2)\n",
        "    s=s+(i*rem)\n",
        "    n=int(n/2)\n",
        "    i=i*10\n",
        "print (\"The binary form of the given number is \",s,'.')\n",
        "\n",
        "\n"
      ],
      "execution_count": 6,
      "outputs": [
        {
          "output_type": "stream",
          "text": [
            "Enter decimal: 3\n",
            "The binary form of the given number is  11 .\n"
          ],
          "name": "stdout"
        }
      ]
    },
    {
      "cell_type": "code",
      "metadata": {
        "id": "I3RL4LIikKXX",
        "colab_type": "code",
        "colab": {
          "base_uri": "https://localhost:8080/",
          "height": 187
        },
        "outputId": "b694b7c0-e165-4d39-be3a-9b28fce6cf9a"
      },
      "source": [
        "n=int(input(\"enter no.of terms\"))\n",
        "i=1\n",
        "t1=0\n",
        "t2=1\n",
        "while(i<n):\n",
        "  print(t1)\n",
        "  next=t1+t2\n",
        "  t1=t2\n",
        "  t2=next\n",
        "  i=i+1"
      ],
      "execution_count": 8,
      "outputs": [
        {
          "output_type": "stream",
          "text": [
            "enter no.of terms10\n",
            "0\n",
            "1\n",
            "1\n",
            "2\n",
            "3\n",
            "5\n",
            "8\n",
            "13\n",
            "21\n"
          ],
          "name": "stdout"
        }
      ]
    }
  ]
}