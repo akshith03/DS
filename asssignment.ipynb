{
  "nbformat": 4,
  "nbformat_minor": 0,
  "metadata": {
    "colab": {
      "name": "asssignment",
      "provenance": []
    },
    "kernelspec": {
      "name": "python3",
      "display_name": "Python 3"
    }
  },
  "cells": [
    {
      "cell_type": "code",
      "metadata": {
        "id": "q4FfiTx7OGnr",
        "colab_type": "code",
        "colab": {
          "base_uri": "https://localhost:8080/",
          "height": 51
        },
        "outputId": "eed5cc6e-a03f-42d7-9df6-d9a061e27f2b"
      },
      "source": [
        "l1=[\"attractive\",\"bald\",\"beautiful\",\"chubby\",\"clean\",\"dazzling\",\"drab\",\"elegant\",\"fancy\",\"fit\"]\n",
        "l2=[\"area\",\"book\",\"business\",\"case\",\"child\",\"company\",\"country\",\"day\",\"eye\",\"fact\"]\n",
        "l3=[\"!\",\"@\",\"#\",\"$\",\"%\",\"*\"]\n",
        "import random\n",
        "while True:\n",
        "    x=str(random.choice(l1))\n",
        "    y=str(random.choice(l2))\n",
        "    z=str(random.randint(0,100))\n",
        "    r=str(random.choice(l3))\n",
        "    print(str(x+y+z+r))\n",
        "    pwd=input(\"do you want another password \")\n",
        "    if pwd==\"no\":\n",
        "        break\n",
        "    else:\n",
        "        continue"
      ],
      "execution_count": 1,
      "outputs": [
        {
          "output_type": "stream",
          "text": [
            "drabfact27#\n",
            "do you want another password no\n"
          ],
          "name": "stdout"
        }
      ]
    },
    {
      "cell_type": "code",
      "metadata": {
        "id": "FiYGu3BXQh7n",
        "colab_type": "code",
        "colab": {
          "base_uri": "https://localhost:8080/",
          "height": 121
        },
        "outputId": "4e9f7760-12fd-43b9-e68e-e7db997271d9"
      },
      "source": [
        "import random\n",
        "\n",
        "response = True\n",
        "\n",
        "words = [\"pizza\", \"pasta\", \"maggi\",\"bread\",\"chips\"]\n",
        "\n",
        "correct_guess = False\n",
        "\n",
        "def update_clue(guessed_letter, secret_word, clue):\n",
        "    index = 0\n",
        "    while index < len(secret_word):\n",
        "        if guessed_letter == secret_word[index]:\n",
        "            clue[index] = guessed_letter\n",
        "        index+= 1\n",
        "\n",
        "while response == True:\n",
        "    lives = 9\n",
        "    secret_word = random.choice(words)\n",
        "    clue = list(\"?????\")\n",
        "    print(\"Type either a letter or  word!\\n\")\n",
        "\n",
        "    while lives > 0:\n",
        "        print(clue)\n",
        "        print(\"Lives left: \",lives)\n",
        "        guess = input(\"Guess a letter or word\\n\")\n",
        "\n",
        "        if guess == secret_word:\n",
        "            correct_guess = True\n",
        "            break\n",
        "\n",
        "        if guess in secret_word:\n",
        "            update_clue(guess, secret_word, clue)\n",
        "            print(\"Correct! Pick another letter...\\n\")\n",
        "\n",
        "        else:\n",
        "            print(\"Incorrect, You lost a life\")\n",
        "            lives-= 1\n",
        "            \n",
        "\n",
        "    if correct_guess:\n",
        "        print(\"You won! \")\n",
        "        break\n",
        "    else:\n",
        "            response = False"
      ],
      "execution_count": 0,
      "outputs": [
        {
          "output_type": "stream",
          "text": [
            "Type either a letter or  word!\n",
            "\n",
            "['?', '?', '?', '?', '?']\n",
            "Lives left:  9\n"
          ],
          "name": "stdout"
        }
      ]
    }
  ]
}