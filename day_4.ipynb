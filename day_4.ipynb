{
  "nbformat": 4,
  "nbformat_minor": 0,
  "metadata": {
    "colab": {
      "name": "day 4",
      "provenance": []
    },
    "kernelspec": {
      "name": "python3",
      "display_name": "Python 3"
    }
  },
  "cells": [
    {
      "cell_type": "code",
      "metadata": {
        "id": "J9PIAuEtA81w",
        "colab_type": "code",
        "outputId": "cc697e34-343b-4cff-87d6-7534eedeec08",
        "colab": {
          "base_uri": "https://localhost:8080/",
          "height": 85
        }
      },
      "source": [
        "a = int(input(\"Input first number: \"))\n",
        "b = int(input(\"Input second number: \"))\n",
        "c = int(input(\"Input third number: \"))\n",
        "if a > b:\n",
        "    if a < c:\n",
        "        median = a\n",
        "    elif b > c:\n",
        "        median = b\n",
        "    else:\n",
        "        median = c\n",
        "else:\n",
        "    if a > c:\n",
        "        median = a\n",
        "    elif b < c:\n",
        "        median = b\n",
        "    else:\n",
        "        median = c\n",
        "\n",
        "print(\"The median is\", median)"
      ],
      "execution_count": 0,
      "outputs": [
        {
          "output_type": "stream",
          "text": [
            "Input first number: 5\n",
            "Input second number: 2\n",
            "Input third number: 3\n",
            "The median is 3\n"
          ],
          "name": "stdout"
        }
      ]
    },
    {
      "cell_type": "code",
      "metadata": {
        "id": "nffZSTfbB3Ii",
        "colab_type": "code",
        "outputId": "6c3ca2cd-d027-4b52-fbea-d8627b280e77",
        "colab": {
          "base_uri": "https://localhost:8080/",
          "height": 884
        }
      },
      "source": [
        "for fizzbuzz in range(0,51):\n",
        "    if fizzbuzz % 3 == 0 and fizzbuzz % 5 == 0:\n",
        "        print(\"fizzbuzz\")\n",
        "        continue\n",
        "    elif fizzbuzz % 3 == 0:\n",
        "        print(\"fizz\")\n",
        "        continue\n",
        "    elif fizzbuzz % 5 == 0:\n",
        "        print(\"buzz\")\n",
        "        continue\n",
        "    print(fizzbuzz)"
      ],
      "execution_count": 0,
      "outputs": [
        {
          "output_type": "stream",
          "text": [
            "fizzbuzz\n",
            "1\n",
            "2\n",
            "fizz\n",
            "4\n",
            "buzz\n",
            "fizz\n",
            "7\n",
            "8\n",
            "fizz\n",
            "buzz\n",
            "11\n",
            "fizz\n",
            "13\n",
            "14\n",
            "fizzbuzz\n",
            "16\n",
            "17\n",
            "fizz\n",
            "19\n",
            "buzz\n",
            "fizz\n",
            "22\n",
            "23\n",
            "fizz\n",
            "buzz\n",
            "26\n",
            "fizz\n",
            "28\n",
            "29\n",
            "fizzbuzz\n",
            "31\n",
            "32\n",
            "fizz\n",
            "34\n",
            "buzz\n",
            "fizz\n",
            "37\n",
            "38\n",
            "fizz\n",
            "buzz\n",
            "41\n",
            "fizz\n",
            "43\n",
            "44\n",
            "fizzbuzz\n",
            "46\n",
            "47\n",
            "fizz\n",
            "49\n",
            "buzz\n"
          ],
          "name": "stdout"
        }
      ]
    },
    {
      "cell_type": "code",
      "metadata": {
        "id": "JCbC4R2VD_Rz",
        "colab_type": "code",
        "outputId": "a2267768-9d72-4150-bd81-471e9fb83b5a",
        "colab": {
          "base_uri": "https://localhost:8080/",
          "height": 51
        }
      },
      "source": [
        "s=0\n",
        "a=input(\"enter\")\n",
        "for i in a:\n",
        "  if i.isdigit():\n",
        "    s=s+int(i)\n",
        "print(s)"
      ],
      "execution_count": 0,
      "outputs": [
        {
          "output_type": "stream",
          "text": [
            "enterak332\n",
            "8\n"
          ],
          "name": "stdout"
        }
      ]
    },
    {
      "cell_type": "code",
      "metadata": {
        "id": "LBL5CFajGvkS",
        "colab_type": "code",
        "outputId": "f37e4383-6b5b-4b26-93d2-cb9ce2f2009a",
        "colab": {
          "base_uri": "https://localhost:8080/",
          "height": 85
        }
      },
      "source": [
        "string = input(\"Please Enter Your Own String : \")\n",
        "string = string.lower()\n",
        "vowels = consonants = digits = special_chars = 0\n",
        "for i in string:\n",
        "    if( i>='a' and i<='z' ):\n",
        "        if( i=='a' or i=='e' or i=='i'or i=='o'or i=='u' ):\n",
        "            vowels += 1\n",
        "        else:\n",
        "                consonants += 1\n",
        "    elif( i.isdigit() ):\n",
        "            digits += 1\n",
        "    else:\n",
        "            special_chars += 1\n",
        "print( \"Vowels: \", vowels)    \n",
        "print( \"Consonants: \", consonants)\n",
        "print( \"Special Characters: \", special_chars)\n"
      ],
      "execution_count": 0,
      "outputs": [
        {
          "output_type": "stream",
          "text": [
            "Please Enter Your Own String : anbc@95t*\n",
            "Vowels:  1\n",
            "Consonants:  4\n",
            "Special Characters:  2\n"
          ],
          "name": "stdout"
        }
      ]
    },
    {
      "cell_type": "code",
      "metadata": {
        "id": "-tnTNTOWG-NB",
        "colab_type": "code",
        "outputId": "beb8948f-3de2-4efd-db6a-0eee1cb7e9d1",
        "colab": {
          "base_uri": "https://localhost:8080/",
          "height": 51
        }
      },
      "source": [
        "score = input(\"Enter Score: \")\n",
        "s =  float(score)\n",
        "x = 'Error'\n",
        "if s >= 0.9:\n",
        "\tx = 'A'\n",
        "elif s >=0.8:\n",
        "\tx='B'\n",
        "elif s >=0.7:\n",
        "\tx='C'\n",
        "elif s >= 0.6:\n",
        "\tx='D'\n",
        "elif s < .6:\n",
        "\tx ='F'\n",
        "else:\n",
        "\tx =\"Out of Range\"\n",
        "print (x)\n"
      ],
      "execution_count": 0,
      "outputs": [
        {
          "output_type": "stream",
          "text": [
            "Enter Score: 0.8\n",
            "B\n"
          ],
          "name": "stdout"
        }
      ]
    },
    {
      "cell_type": "code",
      "metadata": {
        "id": "lky-G-CHH2gb",
        "colab_type": "code",
        "outputId": "19629c57-160a-4f26-90e1-4a070132b7fe",
        "colab": {
          "base_uri": "https://localhost:8080/",
          "height": 51
        }
      },
      "source": [
        "str=input(\"enter the string\")\n",
        "c1=0\n",
        "c2=0\n",
        "for i in range(0,len(str)):\n",
        "  if(str[i]=='('):\n",
        "    c1=c1+1\n",
        "  else:\n",
        "    c2=c2+1\n",
        "if(c1==c2):\n",
        "  print(c1)"
      ],
      "execution_count": 0,
      "outputs": [
        {
          "output_type": "stream",
          "text": [
            "enter the string((((()()()))))()\n",
            "8\n"
          ],
          "name": "stdout"
        }
      ]
    },
    {
      "cell_type": "code",
      "metadata": {
        "id": "kuFFZ9AVJnbJ",
        "colab_type": "code",
        "outputId": "853cd40b-ff95-460b-b964-273e7f4fa6c4",
        "colab": {
          "base_uri": "https://localhost:8080/",
          "height": 51
        }
      },
      "source": [
        "#palindome count in given range\n",
        "maximum = int(input(\" Please Enter the Maximum Value : \"))\n",
        "count=0\n",
        "for num in range(1, maximum + 1):\n",
        "    temp = num\n",
        "    reverse = 0\n",
        "    \n",
        "    while(temp > 0):\n",
        "        Reminder = temp % 10\n",
        "        reverse = (reverse * 10) + Reminder\n",
        "        temp = temp //10\n",
        "\n",
        "    if(num == reverse):\n",
        "        count=count+1\n",
        "print(count)"
      ],
      "execution_count": 0,
      "outputs": [
        {
          "output_type": "stream",
          "text": [
            " Please Enter the Maximum Value : 10\n",
            "9\n"
          ],
          "name": "stdout"
        }
      ]
    },
    {
      "cell_type": "code",
      "metadata": {
        "id": "JAFVT6xaPXqA",
        "colab_type": "code",
        "outputId": "a8f9c644-0e48-47f7-b370-bcebd7134909",
        "colab": {
          "base_uri": "https://localhost:8080/",
          "height": 51
        }
      },
      "source": [
        "str=input(\"enter string\")\n",
        "count=str.count(\"aa\")\n",
        "print(count)"
      ],
      "execution_count": 0,
      "outputs": [
        {
          "output_type": "stream",
          "text": [
            "enter stringaa\n",
            "1\n"
          ],
          "name": "stdout"
        }
      ]
    },
    {
      "cell_type": "code",
      "metadata": {
        "id": "-aI_8pXZDiUu",
        "colab_type": "code",
        "outputId": "2588b1b4-da4b-4a7d-ccaf-b060146c9304",
        "colab": {
          "base_uri": "https://localhost:8080/",
          "height": 34
        }
      },
      "source": [
        "def replaceCharacterType(str): \n",
        "    vowel = False\n",
        "    consonant = False\n",
        "    for i in range(0, len(str)):           \n",
        "        ch = str[i]    \n",
        "        if ( (ch >= 'a' and ch <= 'z') or \n",
        "             (ch >= 'A' and ch <= 'Z') ):  \n",
        "            if(isVowel(ch)):\n",
        "                vowel = True\n",
        "            else:\n",
        "                consonant = True\n",
        "            if (vowel == True): \n",
        "                print(chr(ord(ch) + 1), end =\" \")\n",
        "                vowel = False\n",
        "            else: \n",
        "                i=1\n",
        "                while True:\n",
        "                    tmp = chr(ord(ch)+i)\n",
        "                    if (isVowel(tmp)):\n",
        "                        print(tmp, end =\" \")\n",
        "                        break\n",
        "                    else:\n",
        "                        i +=1\n",
        "\n",
        "def isVowel(ch):\n",
        "    ch = ch.lower()   \n",
        "    if (ch == 'a' or ch == 'e' or ch == 'i' \n",
        "            or ch == 'o' or ch == 'u'):\n",
        "                return True\n",
        "    else:\n",
        "        return False\n",
        "str = \"orange\"\n",
        "replaceCharacterType(str)\n"
      ],
      "execution_count": 0,
      "outputs": [
        {
          "output_type": "stream",
          "text": [
            "p u b o i f "
          ],
          "name": "stdout"
        }
      ]
    },
    {
      "cell_type": "code",
      "metadata": {
        "id": "HQij5jwAJWzP",
        "colab_type": "code",
        "colab": {
          "base_uri": "https://localhost:8080/",
          "height": 34
        },
        "outputId": "74a3cf7f-dca1-4f46-c51d-8c9859dd27ee"
      },
      "source": [
        "n=int(input(\"enter n\"))\n",
        "while True:\n",
        "  temp=n\n",
        "  rev=0\n",
        "  while(temp>0):\n",
        "    rem=temp%10\n",
        "    rev=(rev*10)+rem\n",
        "    temp=temp//10\n",
        "    if(n==rev):\n",
        "      print(rev)\n",
        "      break\n",
        "    else:\n",
        "      n=n+rev"
      ],
      "execution_count": 0,
      "outputs": [
        {
          "output_type": "stream",
          "text": [
            "enter n127\n"
          ],
          "name": "stdout"
        }
      ]
    }
  ]
}