{
  "nbformat": 4,
  "nbformat_minor": 0,
  "metadata": {
    "colab": {
      "name": "Untitled6.ipynb",
      "provenance": []
    },
    "kernelspec": {
      "name": "python3",
      "display_name": "Python 3"
    }
  },
  "cells": [
    {
      "cell_type": "code",
      "metadata": {
        "id": "t8Imo_tQTkwX",
        "colab_type": "code",
        "colab": {
          "base_uri": "https://localhost:8080/",
          "height": 51
        },
        "outputId": "dc40a9d9-6f04-41ac-8dad-256b1be6fbf5"
      },
      "source": [
        "# factorial using recursion\n",
        "def recur_factorial(n):\n",
        "   if n == 1:\n",
        "       return n\n",
        "   else:\n",
        "       return n*recur_factorial(n-1)\n",
        "\n",
        "num=int(input(\"enter number\"))\n",
        "if num < 0:\n",
        "   print(\"Sorry, factorial does not exist for negative numbers\")\n",
        "elif num == 0:\n",
        "   print(\"The factorial of 0 is 1\")\n",
        "else:\n",
        "   print(\"The factorial of\", num, \"is\", recur_factorial(num))"
      ],
      "execution_count": 1,
      "outputs": [
        {
          "output_type": "stream",
          "text": [
            "enter number4\n",
            "The factorial of 4 is 24\n"
          ],
          "name": "stdout"
        }
      ]
    },
    {
      "cell_type": "code",
      "metadata": {
        "id": "646icc08TsXy",
        "colab_type": "code",
        "colab": {
          "base_uri": "https://localhost:8080/",
          "height": 119
        },
        "outputId": "81ab5441-9479-403e-efcc-5be4554b9578"
      },
      "source": [
        "# fibonocci series using recursion\n",
        "def recur_fibo(n):\n",
        "   if n <= 1:\n",
        "       return n\n",
        "   else:\n",
        "       return(recur_fibo(n-1) + recur_fibo(n-2))\n",
        "\n",
        "nterms = int(input(\"enter no.of terms\"))\n",
        "if nterms <= 0:\n",
        "   print(\"Plese enter a positive integer\")\n",
        "else:\n",
        "   pass\n",
        "   for i in range(nterms):\n",
        "       print(recur_fibo(i))"
      ],
      "execution_count": 2,
      "outputs": [
        {
          "output_type": "stream",
          "text": [
            "enter no.of terms5\n",
            "0\n",
            "1\n",
            "1\n",
            "2\n",
            "3\n"
          ],
          "name": "stdout"
        }
      ]
    },
    {
      "cell_type": "code",
      "metadata": {
        "id": "-Ttwo8ksT8MX",
        "colab_type": "code",
        "colab": {
          "base_uri": "https://localhost:8080/",
          "height": 34
        },
        "outputId": "37560aea-4c97-460a-d076-d89e1bc8f557"
      },
      "source": [
        "# sum of elements in a list\n",
        "total = 0\n",
        "ele = 0\n",
        "list1 = [11, 5, 17, 18, 23]  \n",
        "while(ele < len(list1)): \n",
        "    total = total + list1[ele] \n",
        "    ele += 1\n",
        "print(\"Sum of all elements in given list: \", total) "
      ],
      "execution_count": 3,
      "outputs": [
        {
          "output_type": "stream",
          "text": [
            "Sum of all elements in given list:  74\n"
          ],
          "name": "stdout"
        }
      ]
    },
    {
      "cell_type": "code",
      "metadata": {
        "id": "XCa-g0LaUB7P",
        "colab_type": "code",
        "colab": {
          "base_uri": "https://localhost:8080/",
          "height": 34
        },
        "outputId": "1275d7f6-5ba8-43d6-e156-bdb2c705c693"
      },
      "source": [
        "#even numbers in a list\n",
        "list1 = [10, 21, 4, 45, 66, 93] \n",
        "num = 0\n",
        "while(num < len(list1)): \n",
        "    if num % 2 == 0: \n",
        "       print(list1[num], end = \" \") \n",
        "    num += 1\n",
        "     "
      ],
      "execution_count": 4,
      "outputs": [
        {
          "output_type": "stream",
          "text": [
            "10 4 66 "
          ],
          "name": "stdout"
        }
      ]
    },
    {
      "cell_type": "code",
      "metadata": {
        "id": "4Vfiq5d-UKfO",
        "colab_type": "code",
        "colab": {
          "base_uri": "https://localhost:8080/",
          "height": 51
        },
        "outputId": "763c4983-5efc-47c9-dfd9-cbb8e127d06e"
      },
      "source": [
        "#min element and index of a number in a list\n",
        "list1=[12,45,67,2,68,87,14,100]\n",
        "print(\"the minimum element is\",min(list1))\n",
        "print(\"the position is at\",list1.index(min(list1)))"
      ],
      "execution_count": 5,
      "outputs": [
        {
          "output_type": "stream",
          "text": [
            "the minimum element is 2\n",
            "the position is at 3\n"
          ],
          "name": "stdout"
        }
      ]
    },
    {
      "cell_type": "code",
      "metadata": {
        "id": "uJvfsWMIULvR",
        "colab_type": "code",
        "colab": {
          "base_uri": "https://localhost:8080/",
          "height": 51
        },
        "outputId": "ec831ae8-3475-4c41-c02c-626971e6f171"
      },
      "source": [
        "#palindrome\n",
        "def reverse(str1):\n",
        "    if(len(str1) == 0):\n",
        "        return str1\n",
        "    else:\n",
        "        return reverse(str1[1 : ]) + str1[0]\n",
        "    \n",
        "string = input(\"Please enter your own String : \")\n",
        "str1 = reverse(string)\n",
        "if(string == str1):\n",
        "   print(\"This is a Palindrome String\")\n",
        "else:\n",
        "   print(\"This is Not a Palindrome String\")"
      ],
      "execution_count": 6,
      "outputs": [
        {
          "output_type": "stream",
          "text": [
            "Please enter your own String : madam\n",
            "This is a Palindrome String\n"
          ],
          "name": "stdout"
        }
      ]
    },
    {
      "cell_type": "code",
      "metadata": {
        "id": "GaflkKkyUWfn",
        "colab_type": "code",
        "colab": {
          "base_uri": "https://localhost:8080/",
          "height": 51
        },
        "outputId": "8406a7ed-cd42-49a2-f3ba-05f49ee73918"
      },
      "source": [
        "#even and odd count in list\n",
        "ec=0\n",
        "oc=0\n",
        "ele=0\n",
        "list1=[12,67,86,24,98,78,23,67,100,123,456,89]\n",
        "while(ele<len(list1)):\n",
        "  if list1[ele]%2==0:\n",
        "    ec=ec+1\n",
        "  else:\n",
        "     oc=oc+1\n",
        "  ele=ele+1\n",
        "print(\"the count of even numbers in list is\",ec)\n",
        "print(\"the count of odd numbers in odd list is\",oc)"
      ],
      "execution_count": 7,
      "outputs": [
        {
          "output_type": "stream",
          "text": [
            "the count of even numbers in list is 7\n",
            "the count of odd numbers in odd list is 5\n"
          ],
          "name": "stdout"
        }
      ]
    },
    {
      "cell_type": "code",
      "metadata": {
        "id": "uX5aZSYvUYfz",
        "colab_type": "code",
        "colab": {
          "base_uri": "https://localhost:8080/",
          "height": 102
        },
        "outputId": "739ec6ac-1328-4dee-f955-1ff72b2c0b68"
      },
      "source": [
        "# printing all numbers except 3,6\n",
        "for i in range(1,11):\n",
        "  if i%5==0 or i%3==0:\n",
        "    continue\n",
        "  else:\n",
        "    print(i)"
      ],
      "execution_count": 8,
      "outputs": [
        {
          "output_type": "stream",
          "text": [
            "1\n",
            "2\n",
            "4\n",
            "7\n",
            "8\n"
          ],
          "name": "stdout"
        }
      ]
    },
    {
      "cell_type": "code",
      "metadata": {
        "id": "S3mm7vOiUdjH",
        "colab_type": "code",
        "colab": {
          "base_uri": "https://localhost:8080/",
          "height": 51
        },
        "outputId": "f590a735-67d2-4c63-9abf-2480d8c6a5e6"
      },
      "source": [
        "# prime number\n",
        "num = int(input(\"Enter a number: \"))\n",
        "if num > 1:\n",
        "   for i in range(2,num):\n",
        "       if (num % i) == 0:\n",
        "           print(num,\"is not a prime number\")\n",
        "           break\n",
        "   else:\n",
        "       print(num,\"is a prime number\")\n",
        "else:\n",
        "   print(num,\"is not a prime number\")"
      ],
      "execution_count": 9,
      "outputs": [
        {
          "output_type": "stream",
          "text": [
            "Enter a number: 5\n",
            "5 is a prime number\n"
          ],
          "name": "stdout"
        }
      ]
    },
    {
      "cell_type": "code",
      "metadata": {
        "id": "oauXQiWuUnlf",
        "colab_type": "code",
        "colab": {}
      },
      "source": [
        "#adam number\n",
        "def isAdam(num):\n",
        "    n = num\n",
        "    rev = 0\n",
        "    while n != 0:\n",
        "        rev = rev * 10 + n % 10\n",
        "        n = n // 10\n",
        "    sn = num ** 2\n",
        "    sr = rev ** 2\n",
        "    n = sr\n",
        "    rev = 0\n",
        "    while n != 0:\n",
        "        rev = rev * 10 + n % 10\n",
        "        n = n // 10\n",
        "    return sn == rev\n",
        "\n",
        "num = int(input(\"Enter the number: \"))\n",
        "if isAdam(num):\n",
        "    print(str(num) + \" is an Adam Number.\")\n",
        "else:\n",
        "    print(str(num) + \" is NOT an Adam Number.\")"
      ],
      "execution_count": 0,
      "outputs": []
    }
  ]
}